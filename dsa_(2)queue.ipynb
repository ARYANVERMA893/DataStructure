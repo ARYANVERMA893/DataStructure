{
 "cells": [
  {
   "cell_type": "code",
   "execution_count": 10,
   "id": "d01f378e",
   "metadata": {},
   "outputs": [
    {
     "name": "stdout",
     "output_type": "stream",
     "text": [
      "1\n",
      "[1, 2]\n"
     ]
    }
   ],
   "source": [
    "#from collection import deque\n",
    "#my_queue() = deque()\n",
    "#my_queue.append(100)\n",
    "#using list\n",
    "class queue:\n",
    "    def __init__(self):\n",
    "        self.item =[]\n",
    "    def enqueue(self,item):\n",
    "        self.item.append(item)\n",
    "    def dequeue(self):\n",
    "        if len(self.item)>0:\n",
    "            return self.item.pop(0)\n",
    "        else:\n",
    "            return None\n",
    "    def peek(self):\n",
    "        if len(self.item)<0:\n",
    "            return None\n",
    "        else:\n",
    "            return self.item[0]\n",
    "    def is_empty(self):\n",
    "        return len(self.item) ==0\n",
    "    \n",
    "            \n",
    "    def display(self):\n",
    "        print(self.item)\n",
    "q= queue()\n",
    "q.enqueue(1)\n",
    "q.enqueue(2)\n",
    "print(q.peek())\n",
    "q.display()"
   ]
  },
  {
   "cell_type": "code",
   "execution_count": 12,
   "id": "d1c28c4c",
   "metadata": {},
   "outputs": [
    {
     "name": "stdout",
     "output_type": "stream",
     "text": [
      "[5, 4, 6]\n"
     ]
    }
   ],
   "source": [
    "# using linked list\n",
    "class node:\n",
    "    def __init__(self,data):\n",
    "        self.data=data\n",
    "        self.next=None\n",
    "class queue:\n",
    "    def __init__(self):\n",
    "        self.front=None\n",
    "        self.rear=None\n",
    "    def enqueue(self,data):\n",
    "        new_node=node(data)\n",
    "        if self.front is None:\n",
    "            self.front=new_node\n",
    "            self.rear=new_node\n",
    "        else:\n",
    "            self.rear.next=new_node\n",
    "            self.rear=new_node\n",
    "    def dequeue(self):\n",
    "        if self.front is None:\n",
    "            return None\n",
    "        else:\n",
    "            remove_item=self.front.data\n",
    "            if self.front==self.rear:\n",
    "                self.rear =None\n",
    "            self.front = self.front.next\n",
    "            return remove_item\n",
    "    def peek(self):\n",
    "        if self.front == None:\n",
    "            print(\"nothing\")\n",
    "        else:\n",
    "            return self.front.data\n",
    "    \n",
    "    def display(self):\n",
    "        current=self.front\n",
    "        item=[]\n",
    "        while current is not None:\n",
    "            item.append(current.data)\n",
    "            current=current.next\n",
    "        print(item)\n",
    "            \n",
    "q=queue()\n",
    "q.enqueue(5)\n",
    "q.enqueue(4)\n",
    "q.enqueue(6)\n",
    "q.display()\n",
    "        "
   ]
  },
  {
   "cell_type": "code",
   "execution_count": 19,
   "id": "73b4ce3e",
   "metadata": {},
   "outputs": [
    {
     "name": "stdout",
     "output_type": "stream",
     "text": [
      "5\n",
      "6\n"
     ]
    }
   ],
   "source": [
    "class queue:\n",
    "    def __init__(self):\n",
    "        self.data=[]\n",
    "        self.front=0\n",
    "    def enqueue(self,data):\n",
    "        self.data.append(data)\n",
    "    \n",
    "    def dequeue(self):\n",
    "        if self.front is None:\n",
    "            print(\"illa\")\n",
    "        else:\n",
    "            item = self.data[self.front]\n",
    "            self.front += 1\n",
    "            return item\n",
    "    def peek(self):\n",
    "          def peek(self):\n",
    "            if self.front == len(self.items):\n",
    "                return None\n",
    "            else:\n",
    "                self.data[self.front]\n",
    "    def display(self):\n",
    "        for item in self.data[self.front:]:\n",
    "            print(item)\n",
    "q=queue()\n",
    "q.enqueue(5)\n",
    "q.enqueue(6)\n",
    "q.display()"
   ]
  },
  {
   "cell_type": "code",
   "execution_count": null,
   "id": "d1abf8bd",
   "metadata": {},
   "outputs": [],
   "source": []
  },
  {
   "cell_type": "code",
   "execution_count": null,
   "id": "c552bca8",
   "metadata": {},
   "outputs": [],
   "source": []
  }
 ],
 "metadata": {
  "kernelspec": {
   "display_name": "Python 3 (ipykernel)",
   "language": "python",
   "name": "python3"
  },
  "language_info": {
   "codemirror_mode": {
    "name": "ipython",
    "version": 3
   },
   "file_extension": ".py",
   "mimetype": "text/x-python",
   "name": "python",
   "nbconvert_exporter": "python",
   "pygments_lexer": "ipython3",
   "version": "3.9.13"
  }
 },
 "nbformat": 4,
 "nbformat_minor": 5
}
