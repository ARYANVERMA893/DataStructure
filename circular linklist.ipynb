{
 "cells": [
  {
   "cell_type": "code",
   "execution_count": 1,
   "id": "5be66d96",
   "metadata": {},
   "outputs": [
    {
     "name": "stdout",
     "output_type": "stream",
     "text": [
      "5 4 \n"
     ]
    }
   ],
   "source": [
    "class Node:\n",
    "    def __init__(self, data):\n",
    "        self.data = data\n",
    "        self.next = None\n",
    "\n",
    "class CircularLinkedList:\n",
    "    def __init__(self):\n",
    "        self.head = None\n",
    "\n",
    "    def append(self, data):\n",
    "        new_node = Node(data)\n",
    "\n",
    "        if self.head is None:\n",
    "            self.head = new_node\n",
    "            self.head.next = self.head\n",
    "        else:\n",
    "            current = self.head\n",
    "            while current.next != self.head:\n",
    "                current = current.next\n",
    "            current.next = new_node\n",
    "            new_node.next = self.head\n",
    "\n",
    "    def prepend(self, data):\n",
    "        new_node = Node(data)\n",
    "        \n",
    "        if self.head is None:\n",
    "            self.head = new_node\n",
    "            self.head.next = self.head\n",
    "        else:\n",
    "            current = self.head\n",
    "            while current.next != self.head:\n",
    "                current = current.next\n",
    "            current.next = new_node\n",
    "            new_node.next = self.head\n",
    "            self.head = new_node\n",
    "    def del_at_beg(self):\n",
    "        if new_node is None:\n",
    "            print(\"epty\")\n",
    "        elif self.head.next==self.head\n",
    "            self.head=None\n",
    "            return\n",
    "        else:\n",
    "            cureent=self.head\n",
    "            while current.next != self.head:\n",
    "                current=current.next\n",
    "            current.next=self.head.next\n",
    "            self.head=self.head.next\n",
    "    def display(self):\n",
    "        if self.head is None:\n",
    "            print(\"Nothing to display. The list is empty.\")\n",
    "        else:\n",
    "            current = self.head\n",
    "            while True:\n",
    "                print(current.data, end=\" \")\n",
    "                current = current.next\n",
    "                if current == self.head:\n",
    "                    break\n",
    "            print()\n",
    "\n",
    "# Testing the corrected code\n",
    "l = CircularLinkedList()\n",
    "l.prepend(5)\n",
    "l.append(4)\n",
    "l.display()\n"
   ]
  },
  {
   "cell_type": "code",
   "execution_count": null,
   "id": "cb270940",
   "metadata": {},
   "outputs": [],
   "source": []
  },
  {
   "cell_type": "code",
   "execution_count": null,
   "id": "ac2e26e3",
   "metadata": {},
   "outputs": [],
   "source": []
  }
 ],
 "metadata": {
  "kernelspec": {
   "display_name": "Python 3 (ipykernel)",
   "language": "python",
   "name": "python3"
  },
  "language_info": {
   "codemirror_mode": {
    "name": "ipython",
    "version": 3
   },
   "file_extension": ".py",
   "mimetype": "text/x-python",
   "name": "python",
   "nbconvert_exporter": "python",
   "pygments_lexer": "ipython3",
   "version": "3.9.13"
  }
 },
 "nbformat": 4,
 "nbformat_minor": 5
}
