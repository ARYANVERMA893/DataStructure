{
 "cells": [
  {
   "cell_type": "code",
   "execution_count": 1,
   "id": "3011dfd4",
   "metadata": {},
   "outputs": [
    {
     "name": "stdout",
     "output_type": "stream",
     "text": [
      "2\n"
     ]
    },
    {
     "data": {
      "text/plain": [
       "True"
      ]
     },
     "execution_count": 1,
     "metadata": {},
     "output_type": "execute_result"
    }
   ],
   "source": [
    "#linear search\n",
    "def search(arr,key):\n",
    "    for i in range(len(arr)):\n",
    "        if key==arr[i]:\n",
    "            return True\n",
    "            break\n",
    "    else:\n",
    "        return False\n",
    "arr=[7,2,3,5,4]\n",
    "key=int(input())\n",
    "search(arr,key)"
   ]
  },
  {
   "cell_type": "code",
   "execution_count": 6,
   "id": "223ef6e2",
   "metadata": {},
   "outputs": [
    {
     "name": "stdout",
     "output_type": "stream",
     "text": [
      "[2, 3, 4, 5, 7]\n",
      "3\n"
     ]
    },
    {
     "data": {
      "text/plain": [
       "True"
      ]
     },
     "execution_count": 6,
     "metadata": {},
     "output_type": "execute_result"
    }
   ],
   "source": [
    "def binarysearch(arr,key):\n",
    "    low=0\n",
    "    high=len(arr)-1\n",
    "    Found=False\n",
    "    while low <= high and not Found:\n",
    "\n",
    "        mid=(low+high)//2\n",
    "        if key == arr[mid]:\n",
    "            Found= True\n",
    "        elif key>arr[mid]:\n",
    "            low=mid+1\n",
    "        else:\n",
    "            high=mid-1\n",
    "    if Found:\n",
    "        return True\n",
    "    else:\n",
    "        False\n",
    "        \n",
    "\n",
    "arr=[7,2,3,5,4]\n",
    "arr.sort()\n",
    "print(arr)\n",
    "key=int(input())\n",
    "binarysearch(arr,key)"
   ]
  },
  {
   "cell_type": "code",
   "execution_count": null,
   "id": "2660ef01",
   "metadata": {},
   "outputs": [],
   "source": []
  }
 ],
 "metadata": {
  "kernelspec": {
   "display_name": "Python 3 (ipykernel)",
   "language": "python",
   "name": "python3"
  },
  "language_info": {
   "codemirror_mode": {
    "name": "ipython",
    "version": 3
   },
   "file_extension": ".py",
   "mimetype": "text/x-python",
   "name": "python",
   "nbconvert_exporter": "python",
   "pygments_lexer": "ipython3",
   "version": "3.9.13"
  }
 },
 "nbformat": 4,
 "nbformat_minor": 5
}
