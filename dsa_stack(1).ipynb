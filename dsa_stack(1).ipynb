{
 "cells": [
  {
   "cell_type": "code",
   "execution_count": 3,
   "id": "373bf3c5",
   "metadata": {},
   "outputs": [
    {
     "name": "stdout",
     "output_type": "stream",
     "text": [
      "30\n",
      "20\n",
      "2\n",
      "False\n"
     ]
    }
   ],
   "source": [
    "# stack implementation using list\n",
    "class Stack:\n",
    "    def __init__(self, limit=None):\n",
    "        self.items = []\n",
    "        self.limit = limit\n",
    "\n",
    "    def is_empty(self):\n",
    "        return len(self.items) == 0\n",
    "\n",
    "    def is_full(self):\n",
    "        if self.limit is None:\n",
    "            return False\n",
    "        return len(self.items) >= self.limit\n",
    "\n",
    "    def push(self, item):\n",
    "        if self.is_full():\n",
    "            raise IndexError(\"Stack is full\")\n",
    "        self.items.append(item)\n",
    "\n",
    "    def pop(self):\n",
    "        if not self.is_empty():\n",
    "            return self.items.pop()\n",
    "        else:\n",
    "            raise IndexError(\"Stack is empty\")\n",
    "\n",
    "    def peek(self):\n",
    "        if not self.is_empty():\n",
    "            return self.items[-1]\n",
    "        else:\n",
    "            raise IndexError(\"Stack is empty\")\n",
    "\n",
    "    def size(self):\n",
    "        return len(self.items)\n",
    "    \n",
    "    def display(self):\n",
    "        if self.is_empty():\n",
    "            print(\"Stack is empty\")\n",
    "        else:\n",
    "            print(\"Stack elements:\")\n",
    "            for item in reversed(self.items):\n",
    "                print(item)\n",
    "\n",
    "stack = Stack()\n",
    "\n",
    "stack.push(10)\n",
    "stack.push(20)\n",
    "stack.push(30)\n",
    "\n",
    "print(stack.peek())  # Output: 30\n",
    "\n",
    "stack.pop()\n",
    "print(stack.peek())  # Output: 20\n",
    "\n",
    "print(stack.size())  # Output: 2\n",
    "print(stack.is_empty())  # Output: False\n",
    "\n"
   ]
  },
  {
   "cell_type": "code",
   "execution_count": 8,
   "id": "2c243da5",
   "metadata": {},
   "outputs": [
    {
     "name": "stdout",
     "output_type": "stream",
     "text": [
      "6\n",
      "7\n"
     ]
    }
   ],
   "source": [
    "# using linkedlist\n",
    "class node:\n",
    "    def __init__(self,data):\n",
    "        self.data=data\n",
    "        self.next=None\n",
    "class stack:\n",
    "    def __init__(self):\n",
    "        self.top=None\n",
    "    def is_empty(self):\n",
    "        self.top is None\n",
    "    def push(self,item):\n",
    "        new_node=node(item)\n",
    "        new_node.next=self.top\n",
    "        self.top=new_node\n",
    "    def poop(self):\n",
    "        if self.is_empty():\n",
    "            raise InsexError(\"Stack is empty\")\n",
    "        item =self.top.data\n",
    "        self.top=self.top.next\n",
    "        return item\n",
    "    \n",
    "    def peek(self):\n",
    "        if self.is_empty():\n",
    "            raise InsexError(\"Stack is empty\")\n",
    "        return self.top.data\n",
    "        \n",
    "        \n",
    "    def display(self):\n",
    "        if self.is_empty():\n",
    "            raise InsexError(\"Stack is empty\")\n",
    "        else:\n",
    "            curr=self.top\n",
    "            while curr:\n",
    "                print(curr.data)\n",
    "                curr=curr.next\n",
    "stack=stack()\n",
    "stack.push(7)\n",
    "stack.push(6)\n",
    "stack.display()\n"
   ]
  },
  {
   "cell_type": "code",
   "execution_count": 11,
   "id": "dca70dfa",
   "metadata": {},
   "outputs": [
    {
     "name": "stdout",
     "output_type": "stream",
     "text": [
      "Stack elements:\n",
      "7\n",
      "5\n"
     ]
    }
   ],
   "source": [
    "#array implementation\n",
    "class Stack:\n",
    "    def __init__(self):\n",
    "        self.items = []\n",
    "        self.top = -1\n",
    "\n",
    "    def is_empty(self):\n",
    "        return self.top == -1\n",
    "\n",
    "    def push(self, item):\n",
    "        self.items.append(item)\n",
    "        self.top += 1\n",
    "\n",
    "    def pop(self):\n",
    "        if self.is_empty():\n",
    "            raise IndexError(\"Stack is empty\")\n",
    "        item = self.items.pop()\n",
    "        self.top -= 1\n",
    "        return item\n",
    "\n",
    "    def peek(self):\n",
    "        if self.is_empty():\n",
    "            raise IndexError(\"Stack is empty\")\n",
    "        return self.items[self.top]\n",
    "\n",
    "    def size(self):\n",
    "        return self.top + 1\n",
    "\n",
    "    def display(self):\n",
    "        if self.is_empty():\n",
    "            print(\"Stack is empty\")\n",
    "        else:\n",
    "            print(\"Stack elements:\")\n",
    "            for item in reversed(self.items):\n",
    "                print(item)\n",
    "s=Stack()\n",
    "s.push(5)\n",
    "s.push(7)\n",
    "s.display()"
   ]
  },
  {
   "cell_type": "code",
   "execution_count": null,
   "id": "87b87f9e",
   "metadata": {},
   "outputs": [],
   "source": []
  }
 ],
 "metadata": {
  "kernelspec": {
   "display_name": "Python 3 (ipykernel)",
   "language": "python",
   "name": "python3"
  },
  "language_info": {
   "codemirror_mode": {
    "name": "ipython",
    "version": 3
   },
   "file_extension": ".py",
   "mimetype": "text/x-python",
   "name": "python",
   "nbconvert_exporter": "python",
   "pygments_lexer": "ipython3",
   "version": "3.9.13"
  }
 },
 "nbformat": 4,
 "nbformat_minor": 5
}
